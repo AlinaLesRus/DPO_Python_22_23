{
 "cells": [
  {
   "cell_type": "code",
   "execution_count": 2,
   "metadata": {},
   "outputs": [],
   "source": [
    "# Доделаем по ходу пьесы\n",
    "\n",
    "\n",
    "import numpy as np\n",
    "import pandas as pd\n",
    "import matplotlib.pyplot as plt\n",
    "\n",
    "def logit(x, w):\n",
    "    return np.dot(x, w)\n",
    "\n",
    "def sigmoid(h):\n",
    "    return 1. / (1 + np.exp(-h))"
   ]
  },
  {
   "cell_type": "code",
   "execution_count": null,
   "metadata": {},
   "outputs": [],
   "source": [
    "def generate_batches(X, y, batch_size):\n",
    "    \"\"\"\n",
    "    param X: np.array[n_objects, n_features] --- матрица объекты-признаки\n",
    "    param y: np.array[n_objects] --- вектор целевых переменных\n",
    "    \"\"\"\n",
    "    assert len(X) == len(y)\n",
    "    np.random.seed(42)\n",
    "    X = np.array(X)\n",
    "    y = np.array(y)\n",
    "    perm = np.random.permutation(len(X))\n",
    "    \n",
    "    for batch_start in range(len(X)//batch_size):\n",
    "        indices = perm[batch_start*batch_size:(batch_start + 1)*batch_size]\n",
    "        yield X[indices], y[indices]"
   ]
  }
 ],
 "metadata": {
  "kernelspec": {
   "display_name": "Python 3",
   "language": "python",
   "name": "python3"
  },
  "language_info": {
   "codemirror_mode": {
    "name": "ipython",
    "version": 3
   },
   "file_extension": ".py",
   "mimetype": "text/x-python",
   "name": "python",
   "nbconvert_exporter": "python",
   "pygments_lexer": "ipython3",
   "version": "3.8.3"
  }
 },
 "nbformat": 4,
 "nbformat_minor": 4
}

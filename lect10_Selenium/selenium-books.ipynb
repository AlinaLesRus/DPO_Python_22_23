{
 "cells": [
  {
   "cell_type": "markdown",
   "metadata": {},
   "source": [
    "# Python для анализа данных\n",
    "\n",
    "*Алла Тамбовцева, НИУ ВШЭ*\n",
    "\n",
    "дополнения: *Ян Пиле, НИУ ВШЭ*"
   ]
  },
  {
   "cell_type": "markdown",
   "metadata": {},
   "source": [
    "Посмотрим на другие примеры использования `selenium`. \n",
    "\n",
    "**Пример.** Зайдем на сайт книжного магазина и найдем все книги про Python. Загрузим библиотеку, веб-драйвер и откроем страницу в браузере через Python."
   ]
  },
  {
   "cell_type": "code",
   "execution_count": 1,
   "metadata": {},
   "outputs": [],
   "source": [
    "from selenium import webdriver as wb\n",
    "br = wb.Firefox()\n",
    "\n",
    "# открываем страницу в Chrome в автоматическом режиме\n",
    "br.get(\"http://www.biblio-globus.ru/\")"
   ]
  },
  {
   "cell_type": "markdown",
   "metadata": {},
   "source": [
    "Найдем с помощью CSS Selector'а (*SelectorGadget*) поле для ввода названия книги или автора. "
   ]
  },
  {
   "cell_type": "code",
   "execution_count": 2,
   "metadata": {},
   "outputs": [],
   "source": [
    "field = br.find_element_by_xpath('//*[@id=\"search_string\"]')"
   ]
  },
  {
   "cell_type": "markdown",
   "metadata": {},
   "source": [
    "Сохраним запрос:"
   ]
  },
  {
   "cell_type": "code",
   "execution_count": 3,
   "metadata": {},
   "outputs": [],
   "source": [
    "author = \"Python\"  # переменная author - условность"
   ]
  },
  {
   "cell_type": "markdown",
   "metadata": {},
   "source": [
    "Введем запрос в поле для поиска (`.send_keys`) и подождем чуть-чуть:"
   ]
  },
  {
   "cell_type": "code",
   "execution_count": 4,
   "metadata": {},
   "outputs": [],
   "source": [
    "field.send_keys(author)\n",
    "br.implicitly_wait(2)  # подождем пару секунд"
   ]
  },
  {
   "cell_type": "markdown",
   "metadata": {},
   "source": [
    "Теперь найдем кнопку для поиска (значок *лупа* рядом со строкой поиска) через CSS Selector:"
   ]
  },
  {
   "cell_type": "code",
   "execution_count": 5,
   "metadata": {},
   "outputs": [],
   "source": [
    "submit = br.find_element_by_css_selector(\"#search_submit\")"
   ]
  },
  {
   "cell_type": "markdown",
   "metadata": {},
   "source": [
    "Кликнем на нее:"
   ]
  },
  {
   "cell_type": "code",
   "execution_count": 6,
   "metadata": {},
   "outputs": [],
   "source": [
    "submit.click()"
   ]
  },
  {
   "cell_type": "markdown",
   "metadata": {},
   "source": [
    "Сохраним первую страницу с результатами в переменную `page1`."
   ]
  },
  {
   "cell_type": "code",
   "execution_count": 7,
   "metadata": {},
   "outputs": [],
   "source": [
    "page1 = br.page_source"
   ]
  },
  {
   "cell_type": "code",
   "execution_count": 9,
   "metadata": {},
   "outputs": [],
   "source": [
    "# page1"
   ]
  },
  {
   "cell_type": "markdown",
   "metadata": {},
   "source": [
    "Теперь обработаем эту страницу через `BeautifulSoup`:"
   ]
  },
  {
   "cell_type": "code",
   "execution_count": 10,
   "metadata": {},
   "outputs": [],
   "source": [
    "from bs4 import BeautifulSoup"
   ]
  },
  {
   "cell_type": "code",
   "execution_count": 11,
   "metadata": {},
   "outputs": [],
   "source": [
    "soup1 = BeautifulSoup(page1, 'lxml')"
   ]
  },
  {
   "cell_type": "markdown",
   "metadata": {},
   "source": [
    "Найдем все названия книг на этой странице. По исходному коду можно увидеть, что они имеют тэг `a` с атрибутом `class`, равным `name`:"
   ]
  },
  {
   "cell_type": "code",
   "execution_count": 12,
   "metadata": {},
   "outputs": [
    {
     "data": {
      "text/plain": [
       "[<a class=\"name\" href=\"/search/catalog/details/10874070\">Искусственный интеллект и компьютерное зрение. Реальные проекты на Python, Keras и TensorFlow</a>,\n",
       " <a class=\"name\" href=\"/search/catalog/details/10877910\">Python. Исчерпывающее руководство</a>,\n",
       " <a class=\"name\" href=\"/search/catalog/details/10877909\">Знакомство с Python</a>,\n",
       " <a class=\"name\" href=\"/search/catalog/details/10874913\">Высокопроизводительные Python-приложения. Практическое руководство по эффективному программированию</a>,\n",
       " <a class=\"name\" href=\"/search/catalog/details/10874770\">Профессиональное программирование. Python 3 и PyQt 6. Разработка приложений</a>,\n",
       " <a class=\"name\" href=\"/search/catalog/details/10879726\">Глубокое обучение на Python</a>,\n",
       " <a class=\"name\" href=\"/search/catalog/details/10878167\">Миссия: Python. Создаем игры вместе с детьми</a>,\n",
       " <a class=\"name\" href=\"/search/catalog/details/10796619\">Python для детей и родителей.</a>,\n",
       " <a class=\"name\" href=\"/search/catalog/details/10776656\">Справочник PYTHON.  Кратко, быстро, под рукой</a>,\n",
       " <a class=\"name\" href=\"/search/catalog/details/10660469\">Python: Искусственный интеллект, большие данные и облачные вычисления</a>]"
      ]
     },
     "execution_count": 12,
     "metadata": {},
     "output_type": "execute_result"
    }
   ],
   "source": [
    "soup1.find_all('a', {'class':'name'})"
   ]
  },
  {
   "cell_type": "markdown",
   "metadata": {},
   "source": [
    "С помощью списковых включений выберем из ссылок с тэгом `<a>` текст (так мы уже делали, и не раз)."
   ]
  },
  {
   "cell_type": "code",
   "execution_count": 36,
   "metadata": {},
   "outputs": [],
   "source": [
    "books1 = [b.text for b in soup1.find_all('a', {'class':'name'})]"
   ]
  },
  {
   "cell_type": "code",
   "execution_count": 37,
   "metadata": {},
   "outputs": [
    {
     "data": {
      "text/plain": [
       "['Искусственный интеллект и компьютерное зрение. Реальные проекты на Python, Keras и TensorFlow',\n",
       " 'Python. Исчерпывающее руководство',\n",
       " 'Знакомство с Python',\n",
       " 'Высокопроизводительные Python-приложения. Практическое руководство по эффективному программированию',\n",
       " 'Профессиональное программирование. Python 3 и PyQt 6. Разработка приложений',\n",
       " 'Глубокое обучение на Python',\n",
       " 'Миссия: Python. Создаем игры вместе с детьми',\n",
       " 'Python для детей и родителей.',\n",
       " 'Справочник PYTHON.  Кратко, быстро, под рукой',\n",
       " 'Python: Искусственный интеллект, большие данные и облачные вычисления']"
      ]
     },
     "execution_count": 37,
     "metadata": {},
     "output_type": "execute_result"
    }
   ],
   "source": [
    "books1"
   ]
  },
  {
   "cell_type": "markdown",
   "metadata": {},
   "source": [
    "Теперь аналогичным образом сгрузим информацию об авторах:"
   ]
  },
  {
   "cell_type": "code",
   "execution_count": 38,
   "metadata": {},
   "outputs": [],
   "source": [
    "authors1 = [a.text for a in soup1.find_all('div', {'class': 'author'})]"
   ]
  },
  {
   "cell_type": "markdown",
   "metadata": {},
   "source": [
    "Сгрузим расположение:"
   ]
  },
  {
   "cell_type": "code",
   "execution_count": 39,
   "metadata": {},
   "outputs": [],
   "source": [
    "place1 = [p.text for p in soup1.find_all('div', {'class':'placement'})]"
   ]
  },
  {
   "cell_type": "code",
   "execution_count": 40,
   "metadata": {},
   "outputs": [
    {
     "data": {
      "text/plain": [
       "['Расположение в торговом зале: Уровень 1, зал № 07, секция 08, шкаф 85, полка 04',\n",
       " 'Расположение в торговом зале: Уровень 1, зал № 07, секция 08, шкаф 96, полка 08',\n",
       " 'Расположение в торговом зале: Уровень 1, зал № 07, секция 08, шкаф 96, полка 08',\n",
       " 'Расположение в торговом зале: Уровень 1, зал № 07, секция 08, шкаф 96, полка 02',\n",
       " 'Расположение в торговом зале: Уровень 1, зал № 07, секция 08, шкаф 96, полка 04',\n",
       " 'Расположение в торговом зале: Уровень 1, зал № 07, секция 08, шкаф 96, полка 05',\n",
       " 'Расположение в торговом зале: Уровень 1, зал № 07, секция 08, шкаф 96, полка 06',\n",
       " 'Расположение в торговом зале: Уровень 1, зал № 07, секция 08, шкаф 87, полка 06',\n",
       " 'Расположение в торговом зале: Уровень 1, зал № 07, секция 08, шкаф 96, полка 05',\n",
       " 'Расположение в торговом зале: Уровень 1, зал № 07, секция 08, шкаф 96, полка 04']"
      ]
     },
     "execution_count": 40,
     "metadata": {},
     "output_type": "execute_result"
    }
   ],
   "source": [
    "place1"
   ]
  },
  {
   "cell_type": "markdown",
   "metadata": {},
   "source": [
    "И, конечно, цену:"
   ]
  },
  {
   "cell_type": "code",
   "execution_count": 41,
   "metadata": {},
   "outputs": [],
   "source": [
    "import re\n",
    "price1 = [float(re.search(r'[\\d,]+', p.text).group().replace(',','.')) \n",
    "          for p in soup1.find_all('div', \n",
    "                                  {'class':'title_data price'})]"
   ]
  },
  {
   "cell_type": "code",
   "execution_count": 42,
   "metadata": {},
   "outputs": [
    {
     "data": {
      "text/plain": [
       "[3739.0, 2219.0, 2119.0, 1809.0, 2079.0, 2789.0, 1589.0, 1219.0, 519.0, 3389.0]"
      ]
     },
     "execution_count": 42,
     "metadata": {},
     "output_type": "execute_result"
    }
   ],
   "source": [
    "price1"
   ]
  },
  {
   "cell_type": "markdown",
   "metadata": {},
   "source": [
    "Осталось пройтись по всем страницам, которые были выданы в результате поиска. Для примера перейдем на страницу 2 и на этом остановимся."
   ]
  },
  {
   "cell_type": "code",
   "execution_count": 30,
   "metadata": {},
   "outputs": [],
   "source": [
    "next_p = br.find_element_by_css_selector('.next_page')"
   ]
  },
  {
   "cell_type": "code",
   "execution_count": 31,
   "metadata": {},
   "outputs": [],
   "source": [
    "next_p.click()"
   ]
  },
  {
   "cell_type": "markdown",
   "metadata": {},
   "source": [
    "Проделаем то же самое, что и с первой страницей. По-хорошему нужно написать функцию, которая будет искать на странице названия книг, их расположение и цену. Но оставим это в качестве задания читателю :)"
   ]
  },
  {
   "cell_type": "code",
   "execution_count": 35,
   "metadata": {},
   "outputs": [],
   "source": [
    "page2 = br.page_source\n",
    "soup2 = BeautifulSoup(page2, 'lxml')\n",
    "books2 = [b.text for b in soup2.find_all('a', {'class':'name'})]\n",
    "author2 = [a.text for a in soup2.find_all('div', {'class': 'author'})]\n",
    "place2 = [p.text for p in soup2.find_all('div', {'class':'placement'})]\n",
    "price2 = [float(re.search(r'[\\d,]+', p.text).group().replace(',','.')) \n",
    "          for p in soup2.find_all('div', \n",
    "                                  {'class':'title_data price'})]"
   ]
  },
  {
   "cell_type": "markdown",
   "metadata": {},
   "source": [
    "Расширим списки результатов с первой страницы данными, полученными со второй страницы, используя метод `.extend()`."
   ]
  },
  {
   "cell_type": "code",
   "execution_count": 43,
   "metadata": {},
   "outputs": [],
   "source": [
    "books1.extend(books2)\n",
    "authors1.extend(books2)\n",
    "place1.extend(place2)\n",
    "price1.extend(price2)"
   ]
  },
  {
   "cell_type": "markdown",
   "metadata": {},
   "source": [
    "Осталось импортировать библиотеку `pandas` и создать датафрейм."
   ]
  },
  {
   "cell_type": "code",
   "execution_count": 44,
   "metadata": {},
   "outputs": [],
   "source": [
    "import pandas as pd"
   ]
  },
  {
   "cell_type": "markdown",
   "metadata": {},
   "source": [
    "Для разнообразия создадим датафрейм не из списка списков, а из словаря. Ключами словаря будут названия столбцов в таблице, а значениями – списки с сохраненной информацией (названия книг, цены и проч.)."
   ]
  },
  {
   "cell_type": "code",
   "execution_count": 46,
   "metadata": {},
   "outputs": [],
   "source": [
    "df = pd.DataFrame({'book': books1, 'author': authors1,\n",
    "                   'placement': place1, 'price': price1})"
   ]
  },
  {
   "cell_type": "code",
   "execution_count": 47,
   "metadata": {
    "scrolled": true
   },
   "outputs": [
    {
     "data": {
      "text/html": [
       "<div>\n",
       "<style scoped>\n",
       "    .dataframe tbody tr th:only-of-type {\n",
       "        vertical-align: middle;\n",
       "    }\n",
       "\n",
       "    .dataframe tbody tr th {\n",
       "        vertical-align: top;\n",
       "    }\n",
       "\n",
       "    .dataframe thead th {\n",
       "        text-align: right;\n",
       "    }\n",
       "</style>\n",
       "<table border=\"1\" class=\"dataframe\">\n",
       "  <thead>\n",
       "    <tr style=\"text-align: right;\">\n",
       "      <th></th>\n",
       "      <th>book</th>\n",
       "      <th>author</th>\n",
       "      <th>placement</th>\n",
       "      <th>price</th>\n",
       "    </tr>\n",
       "  </thead>\n",
       "  <tbody>\n",
       "    <tr>\n",
       "      <th>0</th>\n",
       "      <td>Искусственный интеллект и компьютерное зрение....</td>\n",
       "      <td>А. Коул ,С. Ганджу , М. Казам</td>\n",
       "      <td>Расположение в торговом зале: Уровень 1, зал №...</td>\n",
       "      <td>3739.0</td>\n",
       "    </tr>\n",
       "    <tr>\n",
       "      <th>1</th>\n",
       "      <td>Python. Исчерпывающее руководство</td>\n",
       "      <td>Д. Бизли</td>\n",
       "      <td>Расположение в торговом зале: Уровень 1, зал №...</td>\n",
       "      <td>2219.0</td>\n",
       "    </tr>\n",
       "    <tr>\n",
       "      <th>2</th>\n",
       "      <td>Знакомство с Python</td>\n",
       "      <td>Д. Бейдер , Д. Эймос , Д. Яблонски , Ф. Хейслер</td>\n",
       "      <td>Расположение в торговом зале: Уровень 1, зал №...</td>\n",
       "      <td>2119.0</td>\n",
       "    </tr>\n",
       "    <tr>\n",
       "      <th>3</th>\n",
       "      <td>Высокопроизводительные Python-приложения. Прак...</td>\n",
       "      <td>М. Горелик, Й. Освальд</td>\n",
       "      <td>Расположение в торговом зале: Уровень 1, зал №...</td>\n",
       "      <td>1809.0</td>\n",
       "    </tr>\n",
       "    <tr>\n",
       "      <th>4</th>\n",
       "      <td>Профессиональное программирование. Python 3 и ...</td>\n",
       "      <td>Н. А. Прохоренок , В. А. Дронов</td>\n",
       "      <td>Расположение в торговом зале: Уровень 1, зал №...</td>\n",
       "      <td>2079.0</td>\n",
       "    </tr>\n",
       "  </tbody>\n",
       "</table>\n",
       "</div>"
      ],
      "text/plain": [
       "                                                book  \\\n",
       "0  Искусственный интеллект и компьютерное зрение....   \n",
       "1                  Python. Исчерпывающее руководство   \n",
       "2                                Знакомство с Python   \n",
       "3  Высокопроизводительные Python-приложения. Прак...   \n",
       "4  Профессиональное программирование. Python 3 и ...   \n",
       "\n",
       "                                            author  \\\n",
       "0                    А. Коул ,С. Ганджу , М. Казам   \n",
       "1                                         Д. Бизли   \n",
       "2  Д. Бейдер , Д. Эймос , Д. Яблонски , Ф. Хейслер   \n",
       "3                           М. Горелик, Й. Освальд   \n",
       "4                  Н. А. Прохоренок , В. А. Дронов   \n",
       "\n",
       "                                           placement   price  \n",
       "0  Расположение в торговом зале: Уровень 1, зал №...  3739.0  \n",
       "1  Расположение в торговом зале: Уровень 1, зал №...  2219.0  \n",
       "2  Расположение в торговом зале: Уровень 1, зал №...  2119.0  \n",
       "3  Расположение в торговом зале: Уровень 1, зал №...  1809.0  \n",
       "4  Расположение в торговом зале: Уровень 1, зал №...  2079.0  "
      ]
     },
     "execution_count": 47,
     "metadata": {},
     "output_type": "execute_result"
    }
   ],
   "source": [
    "df.head()"
   ]
  },
  {
   "cell_type": "code",
   "execution_count": 50,
   "metadata": {},
   "outputs": [
    {
     "data": {
      "text/plain": [
       "['P', 'y', 't', 'h', 'o', 'n']"
      ]
     },
     "execution_count": 50,
     "metadata": {},
     "output_type": "execute_result"
    }
   ],
   "source": [
    "list('Python')"
   ]
  },
  {
   "cell_type": "code",
   "execution_count": 49,
   "metadata": {},
   "outputs": [
    {
     "data": {
      "text/html": [
       "<div>\n",
       "<style scoped>\n",
       "    .dataframe tbody tr th:only-of-type {\n",
       "        vertical-align: middle;\n",
       "    }\n",
       "\n",
       "    .dataframe tbody tr th {\n",
       "        vertical-align: top;\n",
       "    }\n",
       "\n",
       "    .dataframe thead th {\n",
       "        text-align: right;\n",
       "    }\n",
       "</style>\n",
       "<table border=\"1\" class=\"dataframe\">\n",
       "  <thead>\n",
       "    <tr style=\"text-align: right;\">\n",
       "      <th></th>\n",
       "      <th>book</th>\n",
       "      <th>author</th>\n",
       "      <th>placement</th>\n",
       "      <th>price</th>\n",
       "    </tr>\n",
       "  </thead>\n",
       "  <tbody>\n",
       "    <tr>\n",
       "      <th>0</th>\n",
       "      <td>Искусственный интеллект и компьютерное зрение....</td>\n",
       "      <td>А. Коул ,С. Ганджу , М. Казам</td>\n",
       "      <td>Расположение в торговом зале: Уровень 1, зал №...</td>\n",
       "      <td>3739.0</td>\n",
       "    </tr>\n",
       "    <tr>\n",
       "      <th>9</th>\n",
       "      <td>Python: Искусственный интеллект, большие данны...</td>\n",
       "      <td>П.Дейтел, Х.Дейтел</td>\n",
       "      <td>Расположение в торговом зале: Уровень 1, зал №...</td>\n",
       "      <td>3389.0</td>\n",
       "    </tr>\n",
       "    <tr>\n",
       "      <th>5</th>\n",
       "      <td>Глубокое обучение на Python</td>\n",
       "      <td>Ф. Шолле</td>\n",
       "      <td>Расположение в торговом зале: Уровень 1, зал №...</td>\n",
       "      <td>2789.0</td>\n",
       "    </tr>\n",
       "    <tr>\n",
       "      <th>12</th>\n",
       "      <td>Python и наука о данных для чайников, 2-е издание</td>\n",
       "      <td>Python и наука о данных для чайников, 2-е издание</td>\n",
       "      <td>Расположение в торговом зале: Уровень 1, зал №...</td>\n",
       "      <td>2699.0</td>\n",
       "    </tr>\n",
       "    <tr>\n",
       "      <th>1</th>\n",
       "      <td>Python. Исчерпывающее руководство</td>\n",
       "      <td>Д. Бизли</td>\n",
       "      <td>Расположение в торговом зале: Уровень 1, зал №...</td>\n",
       "      <td>2219.0</td>\n",
       "    </tr>\n",
       "    <tr>\n",
       "      <th>19</th>\n",
       "      <td>Python для чайников</td>\n",
       "      <td>Python для чайников</td>\n",
       "      <td>Расположение в торговом зале: Уровень 1, зал №...</td>\n",
       "      <td>2119.0</td>\n",
       "    </tr>\n",
       "    <tr>\n",
       "      <th>2</th>\n",
       "      <td>Знакомство с Python</td>\n",
       "      <td>Д. Бейдер , Д. Эймос , Д. Яблонски , Ф. Хейслер</td>\n",
       "      <td>Расположение в торговом зале: Уровень 1, зал №...</td>\n",
       "      <td>2119.0</td>\n",
       "    </tr>\n",
       "    <tr>\n",
       "      <th>4</th>\n",
       "      <td>Профессиональное программирование. Python 3 и ...</td>\n",
       "      <td>Н. А. Прохоренок , В. А. Дронов</td>\n",
       "      <td>Расположение в торговом зале: Уровень 1, зал №...</td>\n",
       "      <td>2079.0</td>\n",
       "    </tr>\n",
       "    <tr>\n",
       "      <th>3</th>\n",
       "      <td>Высокопроизводительные Python-приложения. Прак...</td>\n",
       "      <td>М. Горелик, Й. Освальд</td>\n",
       "      <td>Расположение в торговом зале: Уровень 1, зал №...</td>\n",
       "      <td>1809.0</td>\n",
       "    </tr>\n",
       "    <tr>\n",
       "      <th>16</th>\n",
       "      <td>Статистические вычисления на платформе Jupyter...</td>\n",
       "      <td>Статистические вычисления на платформе Jupyter...</td>\n",
       "      <td>Расположение в торговом зале: Уровень 1, зал №...</td>\n",
       "      <td>1689.0</td>\n",
       "    </tr>\n",
       "    <tr>\n",
       "      <th>6</th>\n",
       "      <td>Миссия: Python. Создаем игры вместе с детьми</td>\n",
       "      <td>Ш. МакМанус</td>\n",
       "      <td>Расположение в торговом зале: Уровень 1, зал №...</td>\n",
       "      <td>1589.0</td>\n",
       "    </tr>\n",
       "    <tr>\n",
       "      <th>11</th>\n",
       "      <td>Python, например</td>\n",
       "      <td>Python, например</td>\n",
       "      <td>Расположение в торговом зале: Уровень 1, зал №...</td>\n",
       "      <td>1569.0</td>\n",
       "    </tr>\n",
       "    <tr>\n",
       "      <th>7</th>\n",
       "      <td>Python для детей и родителей.</td>\n",
       "      <td>Б. Пэйн</td>\n",
       "      <td>Расположение в торговом зале: Уровень 1, зал №...</td>\n",
       "      <td>1219.0</td>\n",
       "    </tr>\n",
       "    <tr>\n",
       "      <th>18</th>\n",
       "      <td>Машинное обучение с использованием Python. Сбо...</td>\n",
       "      <td>Машинное обучение с использованием Python. Сбо...</td>\n",
       "      <td>Расположение в торговом зале: Уровень 1, зал №...</td>\n",
       "      <td>1139.0</td>\n",
       "    </tr>\n",
       "    <tr>\n",
       "      <th>13</th>\n",
       "      <td>Minecraft. Программируй свой мир на Python</td>\n",
       "      <td>Minecraft. Программируй свой мир на Python</td>\n",
       "      <td>Расположение в торговом зале: Уровень 1, зал №...</td>\n",
       "      <td>969.0</td>\n",
       "    </tr>\n",
       "    <tr>\n",
       "      <th>10</th>\n",
       "      <td>Python. Великое программирование в Minecraft</td>\n",
       "      <td>Python. Великое программирование в Minecraft</td>\n",
       "      <td>Расположение в торговом зале: Уровень 1, зал №...</td>\n",
       "      <td>899.0</td>\n",
       "    </tr>\n",
       "    <tr>\n",
       "      <th>17</th>\n",
       "      <td>Программирование на Python. Первые шаги</td>\n",
       "      <td>Программирование на Python. Первые шаги</td>\n",
       "      <td>Расположение в торговом зале: Уровень 1, зал №...</td>\n",
       "      <td>869.0</td>\n",
       "    </tr>\n",
       "    <tr>\n",
       "      <th>14</th>\n",
       "      <td>Программирование на языке Python. Среды разраб...</td>\n",
       "      <td>Программирование на языке Python. Среды разраб...</td>\n",
       "      <td>Расположение в торговом зале: Уровень 1, зал №...</td>\n",
       "      <td>719.0</td>\n",
       "    </tr>\n",
       "    <tr>\n",
       "      <th>15</th>\n",
       "      <td>Python.Создаем программы и игры</td>\n",
       "      <td>Python.Создаем программы и игры</td>\n",
       "      <td>Расположение в торговом зале: Уровень 1, зал №...</td>\n",
       "      <td>679.0</td>\n",
       "    </tr>\n",
       "    <tr>\n",
       "      <th>8</th>\n",
       "      <td>Справочник PYTHON.  Кратко, быстро, под рукой</td>\n",
       "      <td>Д. М. Кольцов , Е. В. Дубовик</td>\n",
       "      <td>Расположение в торговом зале: Уровень 1, зал №...</td>\n",
       "      <td>519.0</td>\n",
       "    </tr>\n",
       "  </tbody>\n",
       "</table>\n",
       "</div>"
      ],
      "text/plain": [
       "                                                 book  \\\n",
       "0   Искусственный интеллект и компьютерное зрение....   \n",
       "9   Python: Искусственный интеллект, большие данны...   \n",
       "5                         Глубокое обучение на Python   \n",
       "12  Python и наука о данных для чайников, 2-е издание   \n",
       "1                   Python. Исчерпывающее руководство   \n",
       "19                                Python для чайников   \n",
       "2                                 Знакомство с Python   \n",
       "4   Профессиональное программирование. Python 3 и ...   \n",
       "3   Высокопроизводительные Python-приложения. Прак...   \n",
       "16  Статистические вычисления на платформе Jupyter...   \n",
       "6        Миссия: Python. Создаем игры вместе с детьми   \n",
       "11                                   Python, например   \n",
       "7                       Python для детей и родителей.   \n",
       "18  Машинное обучение с использованием Python. Сбо...   \n",
       "13         Minecraft. Программируй свой мир на Python   \n",
       "10       Python. Великое программирование в Minecraft   \n",
       "17            Программирование на Python. Первые шаги   \n",
       "14  Программирование на языке Python. Среды разраб...   \n",
       "15                    Python.Создаем программы и игры   \n",
       "8       Справочник PYTHON.  Кратко, быстро, под рукой   \n",
       "\n",
       "                                               author  \\\n",
       "0                       А. Коул ,С. Ганджу , М. Казам   \n",
       "9                                  П.Дейтел, Х.Дейтел   \n",
       "5                                            Ф. Шолле   \n",
       "12  Python и наука о данных для чайников, 2-е издание   \n",
       "1                                            Д. Бизли   \n",
       "19                                Python для чайников   \n",
       "2     Д. Бейдер , Д. Эймос , Д. Яблонски , Ф. Хейслер   \n",
       "4                     Н. А. Прохоренок , В. А. Дронов   \n",
       "3                              М. Горелик, Й. Освальд   \n",
       "16  Статистические вычисления на платформе Jupyter...   \n",
       "6                                         Ш. МакМанус   \n",
       "11                                   Python, например   \n",
       "7                                             Б. Пэйн   \n",
       "18  Машинное обучение с использованием Python. Сбо...   \n",
       "13         Minecraft. Программируй свой мир на Python   \n",
       "10       Python. Великое программирование в Minecraft   \n",
       "17            Программирование на Python. Первые шаги   \n",
       "14  Программирование на языке Python. Среды разраб...   \n",
       "15                    Python.Создаем программы и игры   \n",
       "8                      Д. М. Кольцов , Е. В. Дубовик    \n",
       "\n",
       "                                            placement   price  \n",
       "0   Расположение в торговом зале: Уровень 1, зал №...  3739.0  \n",
       "9   Расположение в торговом зале: Уровень 1, зал №...  3389.0  \n",
       "5   Расположение в торговом зале: Уровень 1, зал №...  2789.0  \n",
       "12  Расположение в торговом зале: Уровень 1, зал №...  2699.0  \n",
       "1   Расположение в торговом зале: Уровень 1, зал №...  2219.0  \n",
       "19  Расположение в торговом зале: Уровень 1, зал №...  2119.0  \n",
       "2   Расположение в торговом зале: Уровень 1, зал №...  2119.0  \n",
       "4   Расположение в торговом зале: Уровень 1, зал №...  2079.0  \n",
       "3   Расположение в торговом зале: Уровень 1, зал №...  1809.0  \n",
       "16  Расположение в торговом зале: Уровень 1, зал №...  1689.0  \n",
       "6   Расположение в торговом зале: Уровень 1, зал №...  1589.0  \n",
       "11  Расположение в торговом зале: Уровень 1, зал №...  1569.0  \n",
       "7   Расположение в торговом зале: Уровень 1, зал №...  1219.0  \n",
       "18  Расположение в торговом зале: Уровень 1, зал №...  1139.0  \n",
       "13  Расположение в торговом зале: Уровень 1, зал №...   969.0  \n",
       "10  Расположение в торговом зале: Уровень 1, зал №...   899.0  \n",
       "17  Расположение в торговом зале: Уровень 1, зал №...   869.0  \n",
       "14  Расположение в торговом зале: Уровень 1, зал №...   719.0  \n",
       "15  Расположение в торговом зале: Уровень 1, зал №...   679.0  \n",
       "8   Расположение в торговом зале: Уровень 1, зал №...   519.0  "
      ]
     },
     "execution_count": 49,
     "metadata": {},
     "output_type": "execute_result"
    }
   ],
   "source": [
    "df.sort_values(by = 'price', ascending = False)"
   ]
  },
  {
   "cell_type": "markdown",
   "metadata": {},
   "source": [
    "Давайте приведем столбец с ценой к числовому типу. Уберем слова *Цена* и *руб*, а потом сконвертируем строки в числа с плавающей точкой. Напишем функцию `get_price()`,"
   ]
  },
  {
   "cell_type": "code",
   "execution_count": 26,
   "metadata": {},
   "outputs": [],
   "source": [
    "def get_price(price):\n",
    "    book_price = price.split(' ')[1]  # разобьем строку по пробелу и возьмем второй элемент\n",
    "    book_price = book_price.replace(',', '.')  # заменим запятую на точку\n",
    "    price_num = float(book_price)  # сконвертируем в float\n",
    "    return price_num"
   ]
  },
  {
   "cell_type": "code",
   "execution_count": 31,
   "metadata": {},
   "outputs": [],
   "source": [
    "import re\n",
    "def preis(x):\n",
    "    return float('.'.join(re.findall(r'\\d+',x)))"
   ]
  },
  {
   "cell_type": "code",
   "execution_count": 32,
   "metadata": {},
   "outputs": [
    {
     "data": {
      "text/plain": [
       "739.0"
      ]
     },
     "execution_count": 32,
     "metadata": {},
     "output_type": "execute_result"
    }
   ],
   "source": [
    "# проверка\n",
    "get_price(df.price[0])"
   ]
  },
  {
   "cell_type": "code",
   "execution_count": 33,
   "metadata": {},
   "outputs": [
    {
     "data": {
      "text/plain": [
       "739.0"
      ]
     },
     "execution_count": 33,
     "metadata": {},
     "output_type": "execute_result"
    }
   ],
   "source": [
    "preis(df.price[0])"
   ]
  },
  {
   "cell_type": "markdown",
   "metadata": {},
   "source": [
    "Всё отлично работает! Применим функцию к столбцу *price* и создадим новый столбец *nprice*."
   ]
  },
  {
   "cell_type": "code",
   "execution_count": 34,
   "metadata": {},
   "outputs": [],
   "source": [
    "df['nprice'] = df.price.apply(preis)"
   ]
  },
  {
   "cell_type": "code",
   "execution_count": 35,
   "metadata": {},
   "outputs": [
    {
     "data": {
      "text/html": [
       "<div>\n",
       "<style scoped>\n",
       "    .dataframe tbody tr th:only-of-type {\n",
       "        vertical-align: middle;\n",
       "    }\n",
       "\n",
       "    .dataframe tbody tr th {\n",
       "        vertical-align: top;\n",
       "    }\n",
       "\n",
       "    .dataframe thead th {\n",
       "        text-align: right;\n",
       "    }\n",
       "</style>\n",
       "<table border=\"1\" class=\"dataframe\">\n",
       "  <thead>\n",
       "    <tr style=\"text-align: right;\">\n",
       "      <th></th>\n",
       "      <th>book</th>\n",
       "      <th>author</th>\n",
       "      <th>placement</th>\n",
       "      <th>price</th>\n",
       "      <th>nprice</th>\n",
       "    </tr>\n",
       "  </thead>\n",
       "  <tbody>\n",
       "    <tr>\n",
       "      <td>0</td>\n",
       "      <td>Легкий способ выучить Python 3 еще глубже</td>\n",
       "      <td>З. Шоу</td>\n",
       "      <td>Расположение в торговом зале: Уровень 1, зал №...</td>\n",
       "      <td>Цена: 739,00 руб.</td>\n",
       "      <td>739.0</td>\n",
       "    </tr>\n",
       "    <tr>\n",
       "      <td>1</td>\n",
       "      <td>Сумка-шоппер ErichKrause® 10L Python Print</td>\n",
       "      <td></td>\n",
       "      <td>Расположение в торговом зале: Уровень 1, зал №...</td>\n",
       "      <td>Цена: 419,00 руб.</td>\n",
       "      <td>419.0</td>\n",
       "    </tr>\n",
       "    <tr>\n",
       "      <td>2</td>\n",
       "      <td>Изучаем Python, том 2,</td>\n",
       "      <td>М.Лутц</td>\n",
       "      <td>Расположение в торговом зале: Уровень 1, зал №...</td>\n",
       "      <td>Цена: 2769,00 руб.</td>\n",
       "      <td>2769.0</td>\n",
       "    </tr>\n",
       "    <tr>\n",
       "      <td>3</td>\n",
       "      <td>Изучаем Python: программирование игр, визуализ...</td>\n",
       "      <td>Э. Мэтиз</td>\n",
       "      <td>Расположение в торговом зале: Уровень 1, зал №...</td>\n",
       "      <td>Цена: 1509,00 руб.</td>\n",
       "      <td>1509.0</td>\n",
       "    </tr>\n",
       "    <tr>\n",
       "      <td>4</td>\n",
       "      <td>Глубокое обучение и TensorFlow для профессиона...</td>\n",
       "      <td>С. Паттанаяк</td>\n",
       "      <td>Расположение в торговом зале: Уровень 1, зал №...</td>\n",
       "      <td>Цена: 1659,00 руб.</td>\n",
       "      <td>1659.0</td>\n",
       "    </tr>\n",
       "  </tbody>\n",
       "</table>\n",
       "</div>"
      ],
      "text/plain": [
       "                                                book        author  \\\n",
       "0          Легкий способ выучить Python 3 еще глубже       З. Шоу    \n",
       "1         Сумка-шоппер ErichKrause® 10L Python Print                 \n",
       "2                             Изучаем Python, том 2,        М.Лутц   \n",
       "3  Изучаем Python: программирование игр, визуализ...      Э. Мэтиз   \n",
       "4  Глубокое обучение и TensorFlow для профессиона...  С. Паттанаяк   \n",
       "\n",
       "                                           placement               price  \\\n",
       "0  Расположение в торговом зале: Уровень 1, зал №...   Цена: 739,00 руб.   \n",
       "1  Расположение в торговом зале: Уровень 1, зал №...   Цена: 419,00 руб.   \n",
       "2  Расположение в торговом зале: Уровень 1, зал №...  Цена: 2769,00 руб.   \n",
       "3  Расположение в торговом зале: Уровень 1, зал №...  Цена: 1509,00 руб.   \n",
       "4  Расположение в торговом зале: Уровень 1, зал №...  Цена: 1659,00 руб.   \n",
       "\n",
       "   nprice  \n",
       "0   739.0  \n",
       "1   419.0  \n",
       "2  2769.0  \n",
       "3  1509.0  \n",
       "4  1659.0  "
      ]
     },
     "execution_count": 35,
     "metadata": {},
     "output_type": "execute_result"
    }
   ],
   "source": [
    "df.head()"
   ]
  },
  {
   "cell_type": "markdown",
   "metadata": {},
   "source": [
    "Теперь можем расположить книги по цене в порядке возрастания:"
   ]
  },
  {
   "cell_type": "code",
   "execution_count": 36,
   "metadata": {},
   "outputs": [
    {
     "data": {
      "text/html": [
       "<div>\n",
       "<style scoped>\n",
       "    .dataframe tbody tr th:only-of-type {\n",
       "        vertical-align: middle;\n",
       "    }\n",
       "\n",
       "    .dataframe tbody tr th {\n",
       "        vertical-align: top;\n",
       "    }\n",
       "\n",
       "    .dataframe thead th {\n",
       "        text-align: right;\n",
       "    }\n",
       "</style>\n",
       "<table border=\"1\" class=\"dataframe\">\n",
       "  <thead>\n",
       "    <tr style=\"text-align: right;\">\n",
       "      <th></th>\n",
       "      <th>book</th>\n",
       "      <th>author</th>\n",
       "      <th>placement</th>\n",
       "      <th>price</th>\n",
       "      <th>nprice</th>\n",
       "    </tr>\n",
       "  </thead>\n",
       "  <tbody>\n",
       "    <tr>\n",
       "      <td>1</td>\n",
       "      <td>Сумка-шоппер ErichKrause® 10L Python Print</td>\n",
       "      <td></td>\n",
       "      <td>Расположение в торговом зале: Уровень 1, зал №...</td>\n",
       "      <td>Цена: 419,00 руб.</td>\n",
       "      <td>419.0</td>\n",
       "    </tr>\n",
       "    <tr>\n",
       "      <td>9</td>\n",
       "      <td>Легкий способ выучить Python</td>\n",
       "      <td>З. Шоу</td>\n",
       "      <td>Расположение в торговом зале: Уровень 1, зал №...</td>\n",
       "      <td>Цена: 699,00 руб.</td>\n",
       "      <td>699.0</td>\n",
       "    </tr>\n",
       "    <tr>\n",
       "      <td>13</td>\n",
       "      <td>Легкий способ выучить Python 3</td>\n",
       "      <td>Легкий способ выучить Python 3</td>\n",
       "      <td>Расположение в торговом зале: Уровень 1, зал №...</td>\n",
       "      <td>Цена: 739,00 руб.</td>\n",
       "      <td>739.0</td>\n",
       "    </tr>\n",
       "    <tr>\n",
       "      <td>0</td>\n",
       "      <td>Легкий способ выучить Python 3 еще глубже</td>\n",
       "      <td>З. Шоу</td>\n",
       "      <td>Расположение в торговом зале: Уровень 1, зал №...</td>\n",
       "      <td>Цена: 739,00 руб.</td>\n",
       "      <td>739.0</td>\n",
       "    </tr>\n",
       "    <tr>\n",
       "      <td>10</td>\n",
       "      <td>Python для детей : самоучитель по программиров...</td>\n",
       "      <td>Python для детей : самоучитель по программиров...</td>\n",
       "      <td>Расположение в торговом зале: Уровень 1, зал №...</td>\n",
       "      <td>Цена: 1069,00 руб.</td>\n",
       "      <td>1069.0</td>\n",
       "    </tr>\n",
       "    <tr>\n",
       "      <td>17</td>\n",
       "      <td>Python 3   Самое необходимое</td>\n",
       "      <td>Python 3   Самое необходимое</td>\n",
       "      <td>Расположение в торговом зале: Уровень 1, зал №...</td>\n",
       "      <td>Цена: 1139,00 руб.</td>\n",
       "      <td>1139.0</td>\n",
       "    </tr>\n",
       "    <tr>\n",
       "      <td>12</td>\n",
       "      <td>Классические задачи Computer Science на языке ...</td>\n",
       "      <td>Классические задачи Computer Science на языке ...</td>\n",
       "      <td>Расположение в торговом зале: Уровень 1, зал №...</td>\n",
       "      <td>Цена: 1219,00 руб.</td>\n",
       "      <td>1219.0</td>\n",
       "    </tr>\n",
       "    <tr>\n",
       "      <td>18</td>\n",
       "      <td>Глубокое обучение на Python</td>\n",
       "      <td>Глубокое обучение на Python</td>\n",
       "      <td>Расположение в торговом зале: Уровень 1, зал №...</td>\n",
       "      <td>Цена: 1229,00 руб.</td>\n",
       "      <td>1229.0</td>\n",
       "    </tr>\n",
       "    <tr>\n",
       "      <td>14</td>\n",
       "      <td>Прикладной анализ текстовых данных на Python. ...</td>\n",
       "      <td>Прикладной анализ текстовых данных на Python. ...</td>\n",
       "      <td>Расположение в торговом зале: Уровень 1, зал №...</td>\n",
       "      <td>Цена: 1309,00 руб.</td>\n",
       "      <td>1309.0</td>\n",
       "    </tr>\n",
       "    <tr>\n",
       "      <td>7</td>\n",
       "      <td>Изучаем программирование на Python</td>\n",
       "      <td>П. Бэрри</td>\n",
       "      <td>Расположение в торговом зале: Уровень 1, зал №...</td>\n",
       "      <td>Цена: 1359,00 руб.</td>\n",
       "      <td>1359.0</td>\n",
       "    </tr>\n",
       "    <tr>\n",
       "      <td>3</td>\n",
       "      <td>Изучаем Python: программирование игр, визуализ...</td>\n",
       "      <td>Э. Мэтиз</td>\n",
       "      <td>Расположение в торговом зале: Уровень 1, зал №...</td>\n",
       "      <td>Цена: 1509,00 руб.</td>\n",
       "      <td>1509.0</td>\n",
       "    </tr>\n",
       "    <tr>\n",
       "      <td>5</td>\n",
       "      <td>Простой Python. Современный стиль программиров...</td>\n",
       "      <td>Б. Любанович</td>\n",
       "      <td>Расположение в торговом зале: Уровень 1, зал №...</td>\n",
       "      <td>Цена: 1529,00 руб.</td>\n",
       "      <td>1529.0</td>\n",
       "    </tr>\n",
       "    <tr>\n",
       "      <td>4</td>\n",
       "      <td>Глубокое обучение и TensorFlow для профессиона...</td>\n",
       "      <td>С. Паттанаяк</td>\n",
       "      <td>Расположение в торговом зале: Уровень 1, зал №...</td>\n",
       "      <td>Цена: 1659,00 руб.</td>\n",
       "      <td>1659.0</td>\n",
       "    </tr>\n",
       "    <tr>\n",
       "      <td>6</td>\n",
       "      <td>Python для сложных задач: наука о данных и маш...</td>\n",
       "      <td>Дж. В. Плас</td>\n",
       "      <td>Расположение в торговом зале: Уровень 1, зал №...</td>\n",
       "      <td>Цена: 1749,00 руб.</td>\n",
       "      <td>1749.0</td>\n",
       "    </tr>\n",
       "    <tr>\n",
       "      <td>19</td>\n",
       "      <td>Python в системном администрировании UNIX и Linux</td>\n",
       "      <td>Python в системном администрировании UNIX и Linux</td>\n",
       "      <td>Расположение в торговом зале: Уровень 1, зал №...</td>\n",
       "      <td>Цена: 2159,00 руб.</td>\n",
       "      <td>2159.0</td>\n",
       "    </tr>\n",
       "    <tr>\n",
       "      <td>11</td>\n",
       "      <td>Программирование на языке Python</td>\n",
       "      <td>Программирование на языке Python</td>\n",
       "      <td>Расположение в торговом зале: Уровень 1, зал №...</td>\n",
       "      <td>Цена: 2219,00 руб.</td>\n",
       "      <td>2219.0</td>\n",
       "    </tr>\n",
       "    <tr>\n",
       "      <td>8</td>\n",
       "      <td>Введение в машинное обучение с помощью Python</td>\n",
       "      <td>А. Мюллер, С. Гвидо</td>\n",
       "      <td>Расположение в торговом зале: Уровень 1, зал №...</td>\n",
       "      <td>Цена: 2769,00 руб.</td>\n",
       "      <td>2769.0</td>\n",
       "    </tr>\n",
       "    <tr>\n",
       "      <td>2</td>\n",
       "      <td>Изучаем Python, том 2,</td>\n",
       "      <td>М.Лутц</td>\n",
       "      <td>Расположение в торговом зале: Уровень 1, зал №...</td>\n",
       "      <td>Цена: 2769,00 руб.</td>\n",
       "      <td>2769.0</td>\n",
       "    </tr>\n",
       "    <tr>\n",
       "      <td>15</td>\n",
       "      <td>Python и машинное обучение: машинное и глубоко...</td>\n",
       "      <td>Python и машинное обучение: машинное и глубоко...</td>\n",
       "      <td>Расположение в торговом зале: Уровень 1, зал №...</td>\n",
       "      <td>Цена: 2769,00 руб.</td>\n",
       "      <td>2769.0</td>\n",
       "    </tr>\n",
       "    <tr>\n",
       "      <td>16</td>\n",
       "      <td>Python. Справочник. Полное описание языка</td>\n",
       "      <td>Python. Справочник. Полное описание языка</td>\n",
       "      <td>Расположение в торговом зале: Уровень 1, зал №...</td>\n",
       "      <td>Цена: 2769,00 руб.</td>\n",
       "      <td>2769.0</td>\n",
       "    </tr>\n",
       "  </tbody>\n",
       "</table>\n",
       "</div>"
      ],
      "text/plain": [
       "                                                 book  \\\n",
       "1          Сумка-шоппер ErichKrause® 10L Python Print   \n",
       "9                        Легкий способ выучить Python   \n",
       "13                     Легкий способ выучить Python 3   \n",
       "0           Легкий способ выучить Python 3 еще глубже   \n",
       "10  Python для детей : самоучитель по программиров...   \n",
       "17                      Python 3   Самое необходимое    \n",
       "12  Классические задачи Computer Science на языке ...   \n",
       "18                        Глубокое обучение на Python   \n",
       "14  Прикладной анализ текстовых данных на Python. ...   \n",
       "7                  Изучаем программирование на Python   \n",
       "3   Изучаем Python: программирование игр, визуализ...   \n",
       "5   Простой Python. Современный стиль программиров...   \n",
       "4   Глубокое обучение и TensorFlow для профессиона...   \n",
       "6   Python для сложных задач: наука о данных и маш...   \n",
       "19  Python в системном администрировании UNIX и Linux   \n",
       "11                   Программирование на языке Python   \n",
       "8       Введение в машинное обучение с помощью Python   \n",
       "2                              Изучаем Python, том 2,   \n",
       "15  Python и машинное обучение: машинное и глубоко...   \n",
       "16          Python. Справочник. Полное описание языка   \n",
       "\n",
       "                                               author  \\\n",
       "1                                                       \n",
       "9                                              З. Шоу   \n",
       "13                     Легкий способ выучить Python 3   \n",
       "0                                             З. Шоу    \n",
       "10  Python для детей : самоучитель по программиров...   \n",
       "17                      Python 3   Самое необходимое    \n",
       "12  Классические задачи Computer Science на языке ...   \n",
       "18                        Глубокое обучение на Python   \n",
       "14  Прикладной анализ текстовых данных на Python. ...   \n",
       "7                                            П. Бэрри   \n",
       "3                                            Э. Мэтиз   \n",
       "5                                        Б. Любанович   \n",
       "4                                        С. Паттанаяк   \n",
       "6                                         Дж. В. Плас   \n",
       "19  Python в системном администрировании UNIX и Linux   \n",
       "11                   Программирование на языке Python   \n",
       "8                                 А. Мюллер, С. Гвидо   \n",
       "2                                              М.Лутц   \n",
       "15  Python и машинное обучение: машинное и глубоко...   \n",
       "16          Python. Справочник. Полное описание языка   \n",
       "\n",
       "                                            placement               price  \\\n",
       "1   Расположение в торговом зале: Уровень 1, зал №...   Цена: 419,00 руб.   \n",
       "9   Расположение в торговом зале: Уровень 1, зал №...   Цена: 699,00 руб.   \n",
       "13  Расположение в торговом зале: Уровень 1, зал №...   Цена: 739,00 руб.   \n",
       "0   Расположение в торговом зале: Уровень 1, зал №...   Цена: 739,00 руб.   \n",
       "10  Расположение в торговом зале: Уровень 1, зал №...  Цена: 1069,00 руб.   \n",
       "17  Расположение в торговом зале: Уровень 1, зал №...  Цена: 1139,00 руб.   \n",
       "12  Расположение в торговом зале: Уровень 1, зал №...  Цена: 1219,00 руб.   \n",
       "18  Расположение в торговом зале: Уровень 1, зал №...  Цена: 1229,00 руб.   \n",
       "14  Расположение в торговом зале: Уровень 1, зал №...  Цена: 1309,00 руб.   \n",
       "7   Расположение в торговом зале: Уровень 1, зал №...  Цена: 1359,00 руб.   \n",
       "3   Расположение в торговом зале: Уровень 1, зал №...  Цена: 1509,00 руб.   \n",
       "5   Расположение в торговом зале: Уровень 1, зал №...  Цена: 1529,00 руб.   \n",
       "4   Расположение в торговом зале: Уровень 1, зал №...  Цена: 1659,00 руб.   \n",
       "6   Расположение в торговом зале: Уровень 1, зал №...  Цена: 1749,00 руб.   \n",
       "19  Расположение в торговом зале: Уровень 1, зал №...  Цена: 2159,00 руб.   \n",
       "11  Расположение в торговом зале: Уровень 1, зал №...  Цена: 2219,00 руб.   \n",
       "8   Расположение в торговом зале: Уровень 1, зал №...  Цена: 2769,00 руб.   \n",
       "2   Расположение в торговом зале: Уровень 1, зал №...  Цена: 2769,00 руб.   \n",
       "15  Расположение в торговом зале: Уровень 1, зал №...  Цена: 2769,00 руб.   \n",
       "16  Расположение в торговом зале: Уровень 1, зал №...  Цена: 2769,00 руб.   \n",
       "\n",
       "    nprice  \n",
       "1    419.0  \n",
       "9    699.0  \n",
       "13   739.0  \n",
       "0    739.0  \n",
       "10  1069.0  \n",
       "17  1139.0  \n",
       "12  1219.0  \n",
       "18  1229.0  \n",
       "14  1309.0  \n",
       "7   1359.0  \n",
       "3   1509.0  \n",
       "5   1529.0  \n",
       "4   1659.0  \n",
       "6   1749.0  \n",
       "19  2159.0  \n",
       "11  2219.0  \n",
       "8   2769.0  \n",
       "2   2769.0  \n",
       "15  2769.0  \n",
       "16  2769.0  "
      ]
     },
     "execution_count": 36,
     "metadata": {},
     "output_type": "execute_result"
    }
   ],
   "source": [
    "df.sort_values('nprice')"
   ]
  },
  {
   "cell_type": "markdown",
   "metadata": {},
   "source": [
    "И сохраним всю таблицу в csv-файл:"
   ]
  },
  {
   "cell_type": "code",
   "execution_count": null,
   "metadata": {},
   "outputs": [],
   "source": [
    "df.to_csv(\"books.csv\")"
   ]
  }
 ],
 "metadata": {
  "kernelspec": {
   "display_name": "Python 3",
   "language": "python",
   "name": "python3"
  },
  "language_info": {
   "codemirror_mode": {
    "name": "ipython",
    "version": 3
   },
   "file_extension": ".py",
   "mimetype": "text/x-python",
   "name": "python",
   "nbconvert_exporter": "python",
   "pygments_lexer": "ipython3",
   "version": "3.8.3"
  }
 },
 "nbformat": 4,
 "nbformat_minor": 2
}

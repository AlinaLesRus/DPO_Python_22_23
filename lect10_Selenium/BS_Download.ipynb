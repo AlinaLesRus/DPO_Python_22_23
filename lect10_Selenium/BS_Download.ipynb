{
 "cells": [
  {
   "cell_type": "markdown",
   "metadata": {},
   "source": [
    "# Python для анализа данных\n",
    "\n",
    "## Веб-скрэйпинг: скачивание файлов\n",
    "\n",
    "*На основе блокнота Татьяны Рогович, НИУ ВШЭ*\n",
    "*Автор: Ян Пиле, НИУ ВШЭ*"
   ]
  },
  {
   "cell_type": "markdown",
   "metadata": {},
   "source": [
    "## Скачивание файлов"
   ]
  },
  {
   "cell_type": "markdown",
   "metadata": {},
   "source": [
    "Кстати, еще одно применение скрэйпинга, о котором мы пока не поговорили - это автоматизированное скачивание файлов. Например, вы хотите скачать научные статьи по определенному ключевому слову или прайс-листы поставщика, которые он загружает на сайт в эскеле.\n",
    "\n",
    "Давайте посмотрим, как скачивать файлы на примере pdf и заодно попробуем походить по ссылкам. Кстати, этот процесс еще часто называется spidering или crawling, потому что ваш скрипт как паучок ползет по ссылкам (отсюда и название первых поисковых роботов - spider).\n",
    "\n",
    "Давайте попробуем сохранить англоязычные summary дисертаций, защищенных в 2019 году\n",
    "\n",
    "Мы уже отредактировали фильтры и ссылка их запомнила. Позже сегодня посмотрим как можно самим заполнять такие поля с помощью Selenium.\n",
    "\n",
    "https://www.hse.ru/sci/diss/?author=&chief=&year=2019&type=1&degree_type=&council=&spec=&fulltext=yes"
   ]
  },
  {
   "cell_type": "code",
   "execution_count": 2,
   "metadata": {},
   "outputs": [],
   "source": [
    "import requests \n",
    "from bs4 import BeautifulSoup\n",
    "from selenium import webdriver as wb\n",
    "from selenium import webdriver\n",
    "from selenium.webdriver.common.keys import Keys\n",
    "from selenium.webdriver.support.ui import Select\n",
    "from time import sleep\n",
    "import pandas as pd\n",
    "driver = wb.Firefox()\n",
    "\n",
    "driver.implicitly_wait(2)"
   ]
  },
  {
   "cell_type": "code",
   "execution_count": 7,
   "metadata": {},
   "outputs": [],
   "source": [
    "link = 'https://www.hse.ru/sci/diss/?fulltext=yes'\n",
    "driver.get(link)"
   ]
  },
  {
   "cell_type": "code",
   "execution_count": 6,
   "metadata": {},
   "outputs": [],
   "source": [
    "# r = requests.get('https://www.hse.ru/sci/diss/?fulltext=yes')\n",
    "# r.ok"
   ]
  },
  {
   "cell_type": "code",
   "execution_count": 8,
   "metadata": {},
   "outputs": [],
   "source": [
    "soup = BeautifulSoup(driver.page_source)\n",
    "# soup.find_all('a')"
   ]
  },
  {
   "cell_type": "code",
   "execution_count": 38,
   "metadata": {},
   "outputs": [],
   "source": [
    "# soup.find_all('a', {'class':'link'})"
   ]
  },
  {
   "cell_type": "markdown",
   "metadata": {},
   "source": [
    "Давайте для начала поэкспериментируем с первым кандидатом."
   ]
  },
  {
   "cell_type": "code",
   "execution_count": 9,
   "metadata": {},
   "outputs": [
    {
     "name": "stdout",
     "output_type": "stream",
     "text": [
      "177\n"
     ]
    },
    {
     "data": {
      "text/plain": [
       "[<a class=\"link\" href=\"/sci/diss/641400631\">Трансформация репрезентаций украинской национальной идентичности в дискурсах правящих политических элит Украины по вопросу евроатлантической интеграции</a>,\n",
       " <a class=\"link\" href=\"/org/persons/215628947\" target=\"_blank\">Жирун Ирина Васильевна</a>,\n",
       " <a class=\"link\" href=\"/org/persons/34164950\" target=\"_blank\">Малинова Ольга Юрьевна</a>,\n",
       " <a class=\"link\" href=\"/sci/diss/?keyword=%D0%B4%D0%B8%D1%81%D0%BA%D1%83%D1%80%D1%81\">дискурс</a>,\n",
       " <a class=\"link\" href=\"/sci/diss/?keyword=%D0%9D%D0%90%D0%A2%D0%9E\">НАТО</a>,\n",
       " <a class=\"link\" href=\"/sci/diss/?keyword=%D0%BD%D0%B0%D1%86%D0%B8%D0%BE%D0%BD%D0%B0%D0%BB%D1%8C%D0%BD%D0%B0%D1%8F%20%D0%B8%D0%B4%D0%B5%D0%BD%D1%82%D0%B8%D1%87%D0%BD%D0%BE%D1%81%D1%82%D1%8C\">национальная идентичность</a>,\n",
       " <a class=\"link\" href=\"/sci/diss/?keyword=%D0%BF%D0%BE%D0%BB%D0%B8%D1%82%D0%B8%D0%BA%D0%B0%20%D0%B8%D0%B4%D0%B5%D0%BD%D1%82%D0%B8%D1%87%D0%BD%D0%BE%D1%81%D1%82%D0%B8\">политика идентичности</a>,\n",
       " <a class=\"link\" href=\"/sci/diss/?keyword=%D0%BF%D0%BE%D0%BB%D0%B8%D1%82%D0%B8%D1%87%D0%B5%D1%81%D0%BA%D0%B8%D0%B5%20%D1%8D%D0%BB%D0%B8%D1%82%D1%8B\">политические элиты</a>,\n",
       " <a class=\"link\" href=\"/sci/diss/?keyword=%D0%A3%D0%BA%D1%80%D0%B0%D0%B8%D0%BD%D0%B0\">Украина</a>,\n",
       " <a class=\"link\" data-hse-file=\"PDF\" href=\"http://www.hse.ru/data/xf/165/608/1873/1ДИССЕРТАЦИЯ ЖИРУН 11.08.2022.pdf\">Диссертация</a>]"
      ]
     },
     "execution_count": 9,
     "metadata": {},
     "output_type": "execute_result"
    }
   ],
   "source": [
    "print(len(soup.find_all('a')))\n",
    "soup.find_all('a', {'class':'link'})[:10]"
   ]
  },
  {
   "cell_type": "markdown",
   "metadata": {},
   "source": [
    "Видим, что ссылок очень много, а нам нужны только те, которые ведут на summary. Можно поискать их по тексту ссылки."
   ]
  },
  {
   "cell_type": "code",
   "execution_count": 29,
   "metadata": {},
   "outputs": [],
   "source": [
    "links = []\n",
    "for link in soup.find_all('a', text='Summary'):\n",
    "    links.append(link.get('href'))"
   ]
  },
  {
   "cell_type": "markdown",
   "metadata": {},
   "source": [
    "И соберем ссылки в список."
   ]
  },
  {
   "cell_type": "code",
   "execution_count": 11,
   "metadata": {},
   "outputs": [
    {
     "name": "stdout",
     "output_type": "stream",
     "text": [
      "<a class=\"link\" data-hse-file=\"PDF\" href=\"http://www.hse.ru/data/2022/09/15/1873608165/1Резюме_Жирун ENG 11.08.2022.pdf\">Summary</a>\n",
      "<a class=\"link\" data-hse-file=\"PDF\" href=\"http://www.hse.ru/data/2022/08/31/1695860089/Мкртчян_summary.pdf\">Summary</a>\n",
      "<a class=\"link\" data-hse-file=\"PDF\" href=\"http://www.hse.ru/data/2022/08/19/1644913549/ИТОГ_БАЛАШОВ_SUMMARY.pdf\">Summary</a>\n",
      "<a class=\"link\" data-hse-file=\"PDF\" href=\"http://www.hse.ru/data/2022/10/12/1645724092/Summary Семион.pdf\">Summary</a>\n",
      "<a class=\"link\" data-hse-file=\"PDF\" href=\"http://www.hse.ru/data/2022/08/26/1154900249/Миронова_summary.pdf\">Summary</a>\n",
      "<a class=\"link\" data-hse-file=\"PDF\" href=\"http://www.hse.ru/data/2022/10/10/1737178694/1Dissertation_introduction.pdf\">Summary</a>\n",
      "<a class=\"link\" data-hse-file=\"PDF\" href=\"http://www.hse.ru/data/2022/10/12/1694828628/Ковалёнок_Резюме ENG.pdf\">Summary</a>\n",
      "<a class=\"link\" data-hse-file=\"PDF\" href=\"http://www.hse.ru/data/2022/10/06/1663501782/Summary_итог.rtf.pdf\">Summary</a>\n",
      "<a class=\"link\" data-hse-file=\"PDF\" href=\"http://www.hse.ru/data/2022/10/07/1644047287/Kurakin_summary.pdf\">Summary</a>\n",
      "<a class=\"link\" data-hse-file=\"PDF\" href=\"http://www.hse.ru/data/2022/09/09/1690314083/Кузнецова_summary.pdf\">Summary</a>\n",
      "['http://www.hse.ru/data/2022/09/15/1873608165/1Резюме_Жирун ENG 11.08.2022.pdf', 'http://www.hse.ru/data/2022/08/31/1695860089/Мкртчян_summary.pdf', 'http://www.hse.ru/data/2022/08/19/1644913549/ИТОГ_БАЛАШОВ_SUMMARY.pdf', 'http://www.hse.ru/data/2022/10/12/1645724092/Summary Семион.pdf', 'http://www.hse.ru/data/2022/08/26/1154900249/Миронова_summary.pdf', 'http://www.hse.ru/data/2022/10/10/1737178694/1Dissertation_introduction.pdf', 'http://www.hse.ru/data/2022/10/12/1694828628/Ковалёнок_Резюме ENG.pdf', 'http://www.hse.ru/data/2022/10/06/1663501782/Summary_итог.rtf.pdf', 'http://www.hse.ru/data/2022/10/07/1644047287/Kurakin_summary.pdf', 'http://www.hse.ru/data/2022/09/09/1690314083/Кузнецова_summary.pdf']\n"
     ]
    }
   ],
   "source": [
    "links = []\n",
    "for link in soup.find_all('a', text='Summary'):\n",
    "    print(link)\n",
    "    links.append(link.get('href'))\n",
    "    \n",
    "print(links)"
   ]
  },
  {
   "cell_type": "markdown",
   "metadata": {},
   "source": [
    "Отлично. Теперь нужно придумать, откуда взять название для каждого файла. Пусть это будут фамилии авторов, давайте доберемся до них. Такую задачу мы пока не решали: будем искать тэг по тексту, а потом искать его родителя (потому что ни ячейку таблицы с именем автора, ни саму таблицу не получится уникально отсечь)."
   ]
  },
  {
   "cell_type": "code",
   "execution_count": 35,
   "metadata": {},
   "outputs": [],
   "source": [
    "authors = []\n",
    "for author in soup.find_all('div', {'class':'p1 v', \n",
    "                                  'rel':None}):\n",
    "    try:\n",
    "        authors.append(author.text)\n",
    "    except:\n",
    "        pass\n"
   ]
  },
  {
   "cell_type": "code",
   "execution_count": 41,
   "metadata": {},
   "outputs": [
    {
     "data": {
      "text/plain": [
       "True"
      ]
     },
     "execution_count": 41,
     "metadata": {},
     "output_type": "execute_result"
    }
   ],
   "source": [
    "import re\n",
    "\n",
    "re.match(r'\\d+', 'ff16.12.2022') is None"
   ]
  },
  {
   "cell_type": "code",
   "execution_count": 47,
   "metadata": {},
   "outputs": [],
   "source": [
    "authors = [x for x in authors if re.match(r'\\d+',x) is None][0::4]"
   ]
  },
  {
   "cell_type": "markdown",
   "metadata": {},
   "source": [
    "Достанем фамилии."
   ]
  },
  {
   "cell_type": "code",
   "execution_count": 21,
   "metadata": {},
   "outputs": [],
   "source": [
    "# authors = []\n",
    "# for author in soup.find_all('td', text='Соискатель:'):\n",
    "#     print(author.parent()[1].get_text().split()[0])\n",
    "#     authors.append(author.parent()[1].get_text().split()[0])\n",
    "    \n",
    "# print(authors)"
   ]
  },
  {
   "cell_type": "markdown",
   "metadata": {},
   "source": [
    "Проверим, что списки действительно одинаковой длины."
   ]
  },
  {
   "cell_type": "code",
   "execution_count": 48,
   "metadata": {},
   "outputs": [
    {
     "data": {
      "text/plain": [
       "True"
      ]
     },
     "execution_count": 48,
     "metadata": {},
     "output_type": "execute_result"
    }
   ],
   "source": [
    "len(links)==len(authors)"
   ]
  },
  {
   "cell_type": "code",
   "execution_count": 32,
   "metadata": {},
   "outputs": [
    {
     "data": {
      "text/plain": [
       "[<a class=\"link\" href=\"/org/persons/215628947\" target=\"_blank\">Жирун Ирина Васильевна</a>,\n",
       " <a class=\"link\" href=\"/org/persons/34164950\" target=\"_blank\">Малинова Ольга Юрьевна</a>,\n",
       " <a class=\"link\" href=\"/org/persons/210261427\" target=\"_blank\">Балашов Дмитрий Викторович</a>,\n",
       " <a class=\"link\" href=\"/org/persons/68899\" target=\"_blank\">Белькович Родион Юрьевич</a>,\n",
       " <a class=\"link\" href=\"/org/persons/65848748\" target=\"_blank\">Семион Александр Александрович</a>,\n",
       " <a class=\"link\" href=\"/org/persons/47634799\" target=\"_blank\">Афанасьев Валерий Николаевич</a>,\n",
       " <a class=\"link\" href=\"/org/persons/219403371\" target=\"_blank\">Смолянская Наталья Владимировна</a>,\n",
       " <a class=\"link\" href=\"/org/persons/10023276\" target=\"_blank\">Рыбников Леонид Григорьевич</a>,\n",
       " <a class=\"link\" href=\"/org/persons/46728622\" target=\"_blank\">Ковалёнок Анастасия Юрьевна</a>,\n",
       " <a class=\"link\" href=\"/org/persons/61003\" target=\"_blank\">Третьяк Ольга Анатольевна</a>,\n",
       " <a class=\"link\" href=\"/org/persons/568698\" target=\"_blank\">Куракин Александр Александрович</a>,\n",
       " <a class=\"link\" href=\"/org/persons/71817938\" target=\"_blank\">Кузнецова Александра Алексеевна</a>,\n",
       " <a class=\"link\" href=\"/org/persons/96086377\" target=\"_blank\">Осадчий Алексей Евгеньевич</a>]"
      ]
     },
     "execution_count": 32,
     "metadata": {},
     "output_type": "execute_result"
    }
   ],
   "source": [
    "authors"
   ]
  },
  {
   "cell_type": "code",
   "execution_count": 49,
   "metadata": {},
   "outputs": [
    {
     "data": {
      "text/plain": [
       "['http://www.hse.ru/data/2022/09/15/1873608165/1Резюме_Жирун ENG 11.08.2022.pdf',\n",
       " 'http://www.hse.ru/data/2022/08/31/1695860089/Мкртчян_summary.pdf',\n",
       " 'http://www.hse.ru/data/2022/08/19/1644913549/ИТОГ_БАЛАШОВ_SUMMARY.pdf',\n",
       " 'http://www.hse.ru/data/2022/10/12/1645724092/Summary Семион.pdf',\n",
       " 'http://www.hse.ru/data/2022/08/26/1154900249/Миронова_summary.pdf',\n",
       " 'http://www.hse.ru/data/2022/10/10/1737178694/1Dissertation_introduction.pdf',\n",
       " 'http://www.hse.ru/data/2022/10/12/1694828628/Ковалёнок_Резюме ENG.pdf',\n",
       " 'http://www.hse.ru/data/2022/10/06/1663501782/Summary_итог.rtf.pdf',\n",
       " 'http://www.hse.ru/data/2022/10/07/1644047287/Kurakin_summary.pdf',\n",
       " 'http://www.hse.ru/data/2022/09/09/1690314083/Кузнецова_summary.pdf']"
      ]
     },
     "execution_count": 49,
     "metadata": {},
     "output_type": "execute_result"
    }
   ],
   "source": [
    "links"
   ]
  },
  {
   "cell_type": "code",
   "execution_count": 51,
   "metadata": {},
   "outputs": [
    {
     "name": "stdout",
     "output_type": "stream",
     "text": [
      "['http://www.hse.ru/data/2022/09/15/1873608165/1Резюме_Жирун ENG 11.08.2022.pdf', 'http://www.hse.ru/data/2022/08/31/1695860089/Мкртчян_summary.pdf', 'http://www.hse.ru/data/2022/08/19/1644913549/ИТОГ_БАЛАШОВ_SUMMARY.pdf', 'http://www.hse.ru/data/2022/10/12/1645724092/Summary Семион.pdf', 'http://www.hse.ru/data/2022/08/26/1154900249/Миронова_summary.pdf', 'http://www.hse.ru/data/2022/10/10/1737178694/1Dissertation_introduction.pdf', 'http://www.hse.ru/data/2022/10/12/1694828628/Ковалёнок_Резюме ENG.pdf', 'http://www.hse.ru/data/2022/10/06/1663501782/Summary_итог.rtf.pdf', 'http://www.hse.ru/data/2022/10/07/1644047287/Kurakin_summary.pdf', 'http://www.hse.ru/data/2022/09/09/1690314083/Кузнецова_summary.pdf']\n"
     ]
    }
   ],
   "source": [
    "print(links)"
   ]
  },
  {
   "cell_type": "markdown",
   "metadata": {},
   "source": [
    "Теперь попробуем сохранить файл. У нас все файлы pdf, будем переименовывать их фамилиями автора. Кстати, если файлы разного формата, то расширение можно узнать через атрибут headers"
   ]
  },
  {
   "cell_type": "code",
   "execution_count": 53,
   "metadata": {},
   "outputs": [
    {
     "data": {
      "text/plain": [
       "'application/pdf'"
      ]
     },
     "execution_count": 53,
     "metadata": {},
     "output_type": "execute_result"
    }
   ],
   "source": [
    "requests.get(links[0]).headers['content-type']"
   ]
  },
  {
   "cell_type": "code",
   "execution_count": 54,
   "metadata": {},
   "outputs": [],
   "source": [
    "# потоковое чтение файла, потому pdf может быть большим и не уместиться в памяти\n",
    "summary = requests.get(links[0], stream=True) \n",
    "\n",
    "# на всякий случай делаем проверку, иначе получим битый файл\n",
    "if summary.headers['content-type'] == 'application/pdf': \n",
    "\n",
    "    # wb - запись байтовой информации\n",
    "    fh = open('test.pdf', 'wb') \n",
    "    \n",
    "    # считываем туда \"содержание\" файла по ссылке\n",
    "    fh.write(summary.content) \n",
    "    fh.close()"
   ]
  },
  {
   "cell_type": "code",
   "execution_count": 44,
   "metadata": {},
   "outputs": [
    {
     "data": {
      "text/plain": [
       "'/Users/i.pile'"
      ]
     },
     "execution_count": 44,
     "metadata": {},
     "output_type": "execute_result"
    }
   ],
   "source": [
    "import os\n",
    "os.getcwd()"
   ]
  },
  {
   "cell_type": "markdown",
   "metadata": {},
   "source": [
    "Давайте теперь еще добавим имя файла по фамилии."
   ]
  },
  {
   "cell_type": "code",
   "execution_count": 35,
   "metadata": {},
   "outputs": [],
   "source": [
    "# потоковое чтение файла, потому pdf может быть большим и не уместиться в памяти\n",
    "summary = requests.get(links[0], stream=True) \n",
    "\n",
    "# на всякий случай делаем проверку, иначе получим битый файл\n",
    "if summary.headers['content-type'] == 'application/pdf': \n",
    "\n",
    "    # wb - запись байтовой информации\n",
    "    fh = open(f'{authors[0]}.pdf', 'wb') \n",
    "    \n",
    "    # считываем туда \"содержание\" файла по ссылке\n",
    "    fh.write(summary.content) \n",
    "    fh.close()"
   ]
  },
  {
   "cell_type": "markdown",
   "metadata": {},
   "source": [
    "Давайте сохраним обработку файла в функцию и соберем уже все в цикл."
   ]
  },
  {
   "cell_type": "code",
   "execution_count": 56,
   "metadata": {},
   "outputs": [
    {
     "data": {
      "text/plain": [
       "['Жирун Ирина Васильевна',\n",
       " 'Мкртчян Арам Арсенович',\n",
       " 'Балашов Дмитрий Викторович',\n",
       " 'Семион Александр Александрович',\n",
       " 'Миронова Татьяна Юрьевна',\n",
       " 'Машанова-Голикова Инна Антоновна',\n",
       " 'Ковалёнок Анастасия Юрьевна',\n",
       " 'Добрушина Екатерина Роландовна',\n",
       " 'Никулин Александр Михайлович',\n",
       " 'Осадчий Алексей Евгеньевич']"
      ]
     },
     "execution_count": 56,
     "metadata": {},
     "output_type": "execute_result"
    }
   ],
   "source": [
    "authors"
   ]
  },
  {
   "cell_type": "code",
   "execution_count": 57,
   "metadata": {},
   "outputs": [],
   "source": [
    "def get_pdf(idx):\n",
    "    summary = requests.get(links[idx], stream=True) # потоковое чтение файла, потому pdf может быть большим и не уместиться в памяти\n",
    "    if summary.headers['content-type'] == 'application/pdf': # на всякий случай делаем проверку, иначе получим битый файл\n",
    "        s = authors[idx]\n",
    "        fh = open(f'{s}.pdf', 'wb') # wb - запись байтовой информации\n",
    "        fh.write(summary.content) # считываем туда \"содержание\" файла по ссылке\n",
    "        fh.close()"
   ]
  },
  {
   "cell_type": "code",
   "execution_count": 71,
   "metadata": {},
   "outputs": [],
   "source": [
    "import re\n",
    "s = re.findall(r'\\w+',links[0].split('/')[-1])[0]"
   ]
  },
  {
   "cell_type": "code",
   "execution_count": 72,
   "metadata": {},
   "outputs": [
    {
     "data": {
      "text/plain": [
       "'Немова.pdf'"
      ]
     },
     "execution_count": 72,
     "metadata": {},
     "output_type": "execute_result"
    }
   ],
   "source": [
    "f'{s}.pdf'"
   ]
  },
  {
   "cell_type": "code",
   "execution_count": 41,
   "metadata": {},
   "outputs": [],
   "source": [
    "link = 'https://www.hse.ru/sci/diss/?fulltext=yes'\n",
    "driver.get(link)\n",
    "\n",
    "soup = BeautifulSoup(driver.page_source)\n",
    "\n",
    "links = []\n",
    "for link in soup.find_all('a', text='Summary'):\n",
    "    links.append(link.get('href'))\n",
    "\n",
    "authors = []\n",
    "for author in soup.find_all('td', text='Соискатель:'):\n",
    "    authors.append(author.parent()[1].get_text().split()[0])"
   ]
  },
  {
   "cell_type": "code",
   "execution_count": 58,
   "metadata": {},
   "outputs": [
    {
     "data": {
      "text/plain": [
       "['http://www.hse.ru/data/2022/09/15/1873608165/1Резюме_Жирун ENG 11.08.2022.pdf',\n",
       " 'http://www.hse.ru/data/2022/08/31/1695860089/Мкртчян_summary.pdf',\n",
       " 'http://www.hse.ru/data/2022/08/19/1644913549/ИТОГ_БАЛАШОВ_SUMMARY.pdf',\n",
       " 'http://www.hse.ru/data/2022/10/12/1645724092/Summary Семион.pdf',\n",
       " 'http://www.hse.ru/data/2022/08/26/1154900249/Миронова_summary.pdf',\n",
       " 'http://www.hse.ru/data/2022/10/10/1737178694/1Dissertation_introduction.pdf',\n",
       " 'http://www.hse.ru/data/2022/10/12/1694828628/Ковалёнок_Резюме ENG.pdf',\n",
       " 'http://www.hse.ru/data/2022/10/06/1663501782/Summary_итог.rtf.pdf',\n",
       " 'http://www.hse.ru/data/2022/10/07/1644047287/Kurakin_summary.pdf',\n",
       " 'http://www.hse.ru/data/2022/09/09/1690314083/Кузнецова_summary.pdf']"
      ]
     },
     "execution_count": 58,
     "metadata": {},
     "output_type": "execute_result"
    }
   ],
   "source": [
    "links\n"
   ]
  },
  {
   "cell_type": "code",
   "execution_count": 59,
   "metadata": {},
   "outputs": [],
   "source": [
    "for idx in range(len(links)):\n",
    "    get_pdf(idx)"
   ]
  },
  {
   "cell_type": "markdown",
   "metadata": {},
   "source": [
    "Готово!"
   ]
  },
  {
   "cell_type": "code",
   "execution_count": null,
   "metadata": {},
   "outputs": [],
   "source": []
  }
 ],
 "metadata": {
  "kernelspec": {
   "display_name": "Python 3",
   "language": "python",
   "name": "python3"
  },
  "language_info": {
   "codemirror_mode": {
    "name": "ipython",
    "version": 3
   },
   "file_extension": ".py",
   "mimetype": "text/x-python",
   "name": "python",
   "nbconvert_exporter": "python",
   "pygments_lexer": "ipython3",
   "version": "3.8.3"
  }
 },
 "nbformat": 4,
 "nbformat_minor": 4
}
